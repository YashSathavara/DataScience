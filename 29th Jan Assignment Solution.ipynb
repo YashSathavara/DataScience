{
 "cells": [
  {
   "cell_type": "code",
   "execution_count": null,
   "id": "2c8bbc22",
   "metadata": {},
   "outputs": [],
   "source": [
    "1. Who developed Python Programming Language? "
   ]
  },
  {
   "cell_type": "markdown",
   "id": "ee254b8c",
   "metadata": {},
   "source": [
    "Answer- Guido van Rossum"
   ]
  },
  {
   "cell_type": "code",
   "execution_count": null,
   "id": "d1f845c2",
   "metadata": {},
   "outputs": [],
   "source": [
    "2. Which type of Programming does Python support?"
   ]
  },
  {
   "cell_type": "code",
   "execution_count": null,
   "id": "0ec75511",
   "metadata": {},
   "outputs": [],
   "source": [
    "Answer - Object oriented programming and structured programming are supported in python."
   ]
  },
  {
   "cell_type": "code",
   "execution_count": null,
   "id": "b8e2f176",
   "metadata": {},
   "outputs": [],
   "source": [
    "3. Is Python case sensitive when dealing with identifiers? "
   ]
  },
  {
   "cell_type": "code",
   "execution_count": null,
   "id": "bd31f0db",
   "metadata": {},
   "outputs": [],
   "source": [
    "Answer - Yes, python is case sensitive launguage."
   ]
  },
  {
   "cell_type": "code",
   "execution_count": null,
   "id": "c2eaec03",
   "metadata": {},
   "outputs": [],
   "source": [
    "4. What is the correct extension of the Python file? "
   ]
  },
  {
   "cell_type": "code",
   "execution_count": null,
   "id": "0755ea5b",
   "metadata": {},
   "outputs": [],
   "source": [
    "Answer - (.py)"
   ]
  },
  {
   "cell_type": "code",
   "execution_count": null,
   "id": "52672449",
   "metadata": {},
   "outputs": [],
   "source": [
    "5. Is Python code compiled or interpreted? "
   ]
  },
  {
   "cell_type": "code",
   "execution_count": null,
   "id": "d55d1c9e",
   "metadata": {},
   "outputs": [],
   "source": [
    "Answer - python is an interpreted launguage."
   ]
  },
  {
   "cell_type": "code",
   "execution_count": null,
   "id": "5636ce30",
   "metadata": {},
   "outputs": [],
   "source": [
    "6. Name a few blocks of code used to define in Python language? "
   ]
  },
  {
   "cell_type": "code",
   "execution_count": null,
   "id": "f5ea47c3",
   "metadata": {},
   "outputs": [],
   "source": [
    "Answer - The following are blocks: a module, a function body, and a class definition."
   ]
  },
  {
   "cell_type": "code",
   "execution_count": null,
   "id": "044c5ebe",
   "metadata": {},
   "outputs": [],
   "source": [
    "7. State a character used to give single-line comments in Python? "
   ]
  },
  {
   "cell_type": "code",
   "execution_count": null,
   "id": "36b887c7",
   "metadata": {},
   "outputs": [],
   "source": [
    "Answer - you can write comments by using single # character"
   ]
  },
  {
   "cell_type": "code",
   "execution_count": null,
   "id": "296a4457",
   "metadata": {},
   "outputs": [],
   "source": [
    "8. Mention functions which can help us to find the version of python that we are currently working on? "
   ]
  },
  {
   "cell_type": "code",
   "execution_count": null,
   "id": "bb92cbca",
   "metadata": {},
   "outputs": [],
   "source": [
    "Answer - sys.version"
   ]
  },
  {
   "cell_type": "code",
   "execution_count": null,
   "id": "adf42735",
   "metadata": {},
   "outputs": [],
   "source": [
    "9. Python supports the creation of anonymous functions at runtime, using a construct called "
   ]
  },
  {
   "cell_type": "code",
   "execution_count": null,
   "id": "8dddece9",
   "metadata": {},
   "outputs": [],
   "source": [
    "Answer - lambda"
   ]
  },
  {
   "cell_type": "code",
   "execution_count": null,
   "id": "449e98fa",
   "metadata": {},
   "outputs": [],
   "source": [
    "10. What does pip stand for python? "
   ]
  },
  {
   "cell_type": "code",
   "execution_count": null,
   "id": "05efc105",
   "metadata": {},
   "outputs": [],
   "source": [
    "Answer - it is the short form of pip intall package and it is used for installing packages in python."
   ]
  },
  {
   "cell_type": "code",
   "execution_count": null,
   "id": "f134c1c0",
   "metadata": {},
   "outputs": [],
   "source": [
    "11. Mention a few built-in functions in python? "
   ]
  },
  {
   "cell_type": "code",
   "execution_count": null,
   "id": "bc6f4504",
   "metadata": {},
   "outputs": [],
   "source": [
    "Answer - print(), type(), input()."
   ]
  },
  {
   "cell_type": "code",
   "execution_count": null,
   "id": "de0bb056",
   "metadata": {},
   "outputs": [],
   "source": [
    "12. What is the maximum possible length of an identifier in Python? "
   ]
  },
  {
   "cell_type": "code",
   "execution_count": null,
   "id": "2889d4d2",
   "metadata": {},
   "outputs": [],
   "source": [
    "Answer - 79 characters."
   ]
  },
  {
   "cell_type": "code",
   "execution_count": null,
   "id": "04635013",
   "metadata": {},
   "outputs": [],
   "source": [
    "13. What are the benefits of using Python? "
   ]
  },
  {
   "cell_type": "code",
   "execution_count": null,
   "id": "d0cd12c4",
   "metadata": {},
   "outputs": [],
   "source": [
    "Answer - Easy to code, Easy to read, Extensible, Free and open source."
   ]
  },
  {
   "cell_type": "code",
   "execution_count": null,
   "id": "5bc34073",
   "metadata": {},
   "outputs": [],
   "source": [
    "14. How is memory managed in Python? "
   ]
  },
  {
   "cell_type": "code",
   "execution_count": null,
   "id": "ecdc9e71",
   "metadata": {},
   "outputs": [],
   "source": [
    "Answer - Memory management in Python involves a private heap containing all Python objects and data structures."
   ]
  },
  {
   "cell_type": "code",
   "execution_count": null,
   "id": "46e5c0fa",
   "metadata": {},
   "outputs": [],
   "source": [
    "15. How to install Python on Windows and set path variables? "
   ]
  },
  {
   "cell_type": "code",
   "execution_count": null,
   "id": "763c9442",
   "metadata": {},
   "outputs": [],
   "source": [
    "Answer - Right-clicking This PC and going to Properties.\n",
    "\n",
    "Clicking on the Advanced system settings in the menu on the left.\n",
    "\n",
    "Clicking on the Environment Variables button on the bottom right.\n",
    "\n",
    "In the System variables section, selecting the Path variable and clicking on Edit. The next screen will show all the directories that are currently a part of the PATH variable.\n",
    "\n",
    "Clicking on New and entering Python’s install directory."
   ]
  },
  {
   "cell_type": "code",
   "execution_count": null,
   "id": "16681a4c",
   "metadata": {},
   "outputs": [],
   "source": [
    "16. Is indentation required in python? "
   ]
  },
  {
   "cell_type": "code",
   "execution_count": null,
   "id": "f34da6ac",
   "metadata": {},
   "outputs": [],
   "source": [
    "Answer - Indentation is mandatory in python to define the blocks of statements."
   ]
  }
 ],
 "metadata": {
  "kernelspec": {
   "display_name": "Python 3 (ipykernel)",
   "language": "python",
   "name": "python3"
  },
  "language_info": {
   "codemirror_mode": {
    "name": "ipython",
    "version": 3
   },
   "file_extension": ".py",
   "mimetype": "text/x-python",
   "name": "python",
   "nbconvert_exporter": "python",
   "pygments_lexer": "ipython3",
   "version": "3.9.12"
  }
 },
 "nbformat": 4,
 "nbformat_minor": 5
}
